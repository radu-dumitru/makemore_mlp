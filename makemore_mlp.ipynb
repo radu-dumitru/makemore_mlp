{
  "nbformat": 4,
  "nbformat_minor": 0,
  "metadata": {
    "colab": {
      "provenance": [],
      "authorship_tag": "ABX9TyOEF8Zk9M8C4JcwRiOt4x5a",
      "include_colab_link": true
    },
    "kernelspec": {
      "name": "python3",
      "display_name": "Python 3"
    },
    "language_info": {
      "name": "python"
    }
  },
  "cells": [
    {
      "cell_type": "markdown",
      "metadata": {
        "id": "view-in-github",
        "colab_type": "text"
      },
      "source": [
        "<a href=\"https://colab.research.google.com/github/radu-dumitru/makemore_mlp/blob/main/makemore_mlp.ipynb\" target=\"_parent\"><img src=\"https://colab.research.google.com/assets/colab-badge.svg\" alt=\"Open In Colab\"/></a>"
      ]
    },
    {
      "cell_type": "code",
      "execution_count": null,
      "metadata": {
        "id": "oAujd_QTxrDv"
      },
      "outputs": [],
      "source": [
        "import torch\n",
        "import torch.nn.functional as F\n",
        "import matplotlib.pyplot as plt # for making figures\n",
        "%matplotlib inline"
      ]
    },
    {
      "cell_type": "code",
      "source": [
        "g = torch.Generator().manual_seed(2147483647) # for reproducibility"
      ],
      "metadata": {
        "id": "IZWaQ6IWJv1v"
      },
      "execution_count": null,
      "outputs": []
    },
    {
      "cell_type": "code",
      "source": [
        "# download the names.txt file from github\n",
        "!wget https://raw.githubusercontent.com/karpathy/makemore/master/names.txt"
      ],
      "metadata": {
        "colab": {
          "base_uri": "https://localhost:8080/"
        },
        "id": "lfzDl1qhzfOX",
        "outputId": "6df4f9d7-cec4-4ead-83cd-f7bc1d0a25f8"
      },
      "execution_count": null,
      "outputs": [
        {
          "output_type": "stream",
          "name": "stdout",
          "text": [
            "--2025-01-15 10:28:01--  https://raw.githubusercontent.com/karpathy/makemore/master/names.txt\n",
            "Resolving raw.githubusercontent.com (raw.githubusercontent.com)... 185.199.108.133, 185.199.109.133, 185.199.110.133, ...\n",
            "Connecting to raw.githubusercontent.com (raw.githubusercontent.com)|185.199.108.133|:443... connected.\n",
            "HTTP request sent, awaiting response... 200 OK\n",
            "Length: 228145 (223K) [text/plain]\n",
            "Saving to: ‘names.txt.11’\n",
            "\n",
            "\rnames.txt.11          0%[                    ]       0  --.-KB/s               \rnames.txt.11        100%[===================>] 222.80K  --.-KB/s    in 0.04s   \n",
            "\n",
            "2025-01-15 10:28:02 (5.60 MB/s) - ‘names.txt.11’ saved [228145/228145]\n",
            "\n"
          ]
        }
      ]
    },
    {
      "cell_type": "code",
      "source": [
        "words = open('names.txt', 'r').read().splitlines()\n",
        "words[:8]"
      ],
      "metadata": {
        "colab": {
          "base_uri": "https://localhost:8080/"
        },
        "id": "c7anYli1zhvJ",
        "outputId": "48705c33-efef-4e7d-b345-09e9472e49b3"
      },
      "execution_count": null,
      "outputs": [
        {
          "output_type": "execute_result",
          "data": {
            "text/plain": [
              "['emma', 'olivia', 'ava', 'isabella', 'sophia', 'charlotte', 'mia', 'amelia']"
            ]
          },
          "metadata": {},
          "execution_count": 143
        }
      ]
    },
    {
      "cell_type": "code",
      "source": [
        "len(words)"
      ],
      "metadata": {
        "colab": {
          "base_uri": "https://localhost:8080/"
        },
        "id": "CxskRQrNznUn",
        "outputId": "5b1a12e0-1a10-4c7e-8cdd-2ccbe287dc72"
      },
      "execution_count": null,
      "outputs": [
        {
          "output_type": "execute_result",
          "data": {
            "text/plain": [
              "32033"
            ]
          },
          "metadata": {},
          "execution_count": 144
        }
      ]
    },
    {
      "cell_type": "code",
      "source": [
        "# build the vocabulary of characters and mappings to/from integers\n",
        "chars = sorted(list(set(''.join(words))))\n",
        "stoi = {s:i+1 for i,s in enumerate(chars)}\n",
        "stoi['.'] = 0\n",
        "itos = {i:s for s,i in stoi.items()}\n",
        "print(itos)"
      ],
      "metadata": {
        "colab": {
          "base_uri": "https://localhost:8080/"
        },
        "id": "ZxFCQ71qzvlA",
        "outputId": "8fae687a-6085-40f1-bd23-13e3f00e1fd5"
      },
      "execution_count": null,
      "outputs": [
        {
          "output_type": "stream",
          "name": "stdout",
          "text": [
            "{1: 'a', 2: 'b', 3: 'c', 4: 'd', 5: 'e', 6: 'f', 7: 'g', 8: 'h', 9: 'i', 10: 'j', 11: 'k', 12: 'l', 13: 'm', 14: 'n', 15: 'o', 16: 'p', 17: 'q', 18: 'r', 19: 's', 20: 't', 21: 'u', 22: 'v', 23: 'w', 24: 'x', 25: 'y', 26: 'z', 0: '.'}\n"
          ]
        }
      ]
    },
    {
      "cell_type": "code",
      "source": [
        "# throughout the code there are comments about being 32 examples. We didn't processed all the names initially, only the first 5 and that's were the 32 examples come from.\n",
        "# it is easier to understand what the code does when there are only 32 examples instead of thousands of examples\n",
        "\n",
        "block_size = 3 # context length: how many characters do we take to predict the next one?\n",
        "\n",
        "\n",
        "# training split (train the parameters), dev/validation split (train the hyperparameters), test split (evaluate the performance of the model)\n",
        "# 80% 10% 10%\n",
        "def build_dataset(words):\n",
        "  X, Y = [], []\n",
        "  for w in words:\n",
        "\n",
        "    #print(w)\n",
        "    context = [0] * block_size\n",
        "    for ch in w + '.':\n",
        "      ix = stoi[ch]\n",
        "      X.append(context)\n",
        "      Y.append(ix)\n",
        "      #print(''.join(itos[i] for i in context), '--->', itos[ix])\n",
        "      context = context[1:] + [ix] # crop and append\n",
        "\n",
        "  X = torch.tensor(X)\n",
        "  Y = torch.tensor(Y)\n",
        "  print(X.shape, Y.shape)\n",
        "  return X, Y\n",
        "\n",
        "import random\n",
        "random.seed(42)\n",
        "random.shuffle(words)\n",
        "n1 = int(0.8*len(words))\n",
        "n2 = int(0.9*len(words))\n",
        "\n",
        "Xtr, Ytr = build_dataset(words[:n1])\n",
        "Xdev, Ydev = build_dataset(words[n1:n2])\n",
        "Xte, Yte = build_dataset(words[n2:])"
      ],
      "metadata": {
        "colab": {
          "base_uri": "https://localhost:8080/"
        },
        "id": "9v0ZCIheYRWx",
        "outputId": "425756eb-e01c-4117-e59d-6def4c78c1fa"
      },
      "execution_count": null,
      "outputs": [
        {
          "output_type": "stream",
          "name": "stdout",
          "text": [
            "torch.Size([182625, 3]) torch.Size([182625])\n",
            "torch.Size([22655, 3]) torch.Size([22655])\n",
            "torch.Size([22866, 3]) torch.Size([22866])\n"
          ]
        }
      ]
    },
    {
      "cell_type": "code",
      "source": [
        "C = torch.randn((27, 2), generator=g) # we have 27 possible characters and we embed each character in an vector with 2 dimensions (27 rows and 2 columns)\n",
        "\n",
        "# we want to create the hidden layer\n",
        "# the number of inputs = 6 because we have 2 dimensional embeddings (each word is a vector with 2 dimensions) and we have 3 of them\n",
        "# the number of neurons is a hyperparameter and we set it to 100\n",
        "# we have 100 neurons and each neuron has 6 inputs (3 words and each word is an array with 2 dimensions)\n",
        "W1 = torch.randn((6, 100), generator=g)\n",
        "# biases\n",
        "b1 = torch.randn(100, generator=g)\n",
        "\n",
        "# the output layer\n",
        "# there are 27 possible characters\n",
        "W2 = torch.randn((100, 27), generator=g)\n",
        "b2 = torch.randn(27, generator=g)\n",
        "\n",
        "parameters = [C, W1, b1, W2, b2]\n",
        "sum(p.nelement() for p in parameters) # total number of parameters"
      ],
      "metadata": {
        "id": "7g9LbHcH2dTO",
        "colab": {
          "base_uri": "https://localhost:8080/"
        },
        "outputId": "0e72ef97-9a6b-405c-c4b8-ea897b5af55e"
      },
      "execution_count": null,
      "outputs": [
        {
          "output_type": "execute_result",
          "data": {
            "text/plain": [
              "3481"
            ]
          },
          "metadata": {},
          "execution_count": 147
        }
      ]
    },
    {
      "cell_type": "code",
      "source": [
        "for p in parameters:\n",
        "  p.requires_grad = True"
      ],
      "metadata": {
        "id": "7Aurln0jOm1E"
      },
      "execution_count": null,
      "outputs": []
    },
    {
      "cell_type": "code",
      "source": [
        "# learning rate exponent\n",
        "#lre = torch.linspace(-3, 0, 1000)\n",
        "#lrs = 10**lre\n",
        "\n",
        "#lri = []\n",
        "#lossi = []\n",
        "\n",
        "for i in range(1000):\n",
        "\n",
        "  # minibatch construct\n",
        "  # generate 32 integers between 0 and the number of examples that we will use to index into the dataset (the batch size is 32)\n",
        "  ix = torch.randint(0, Xtr.shape[0], (32,))\n",
        "\n",
        "  # how do we simultaneously embed all of the 32 x 3 integers stored in the array X?\n",
        "  # for each element in X (which is an array of 3 values) you want the corresponding 2 dimensional array from C => 32 values, each value is an array of 3 elements and each element is an array with 2 numbers\n",
        "\n",
        "  # X is an array of 32 elements and each element is another array with 3 values\n",
        "  # C[X] - this will create an array with 32 elements\n",
        "  #      - each element is an array with 3 values because X contains elements with 3 values\n",
        "  #      - each value is an array with 2 other values because C is an array with 37 elements and each element has 2 values\n",
        "  #      - the shape of C[X] is [32, 3, 2]\n",
        "\n",
        "  emb = C[Xtr][ix] # only grab the minibatch rows\n",
        "\n",
        "  # we want: emb @ W1 + b1 but this will not work due to the differences in the shape of emb and W1\n",
        "  # we need to transform emb which is 32 x 3 x 2 into 32 x 6\n",
        "\n",
        "  h = torch.tanh(emb.view(emb.shape[0], 6) @ W1 + b1)\n",
        "  # why is h.shape 32 x 100?\n",
        "  # there are 32 examples, each example has a context length of 3, 3 words, each word is represented through a 2D vector => each example contains 6 numbers\n",
        "  # there are 100 neurons. For each neuron you want to multiply each of the 6 numbers with a weight, add the bias and apply tanh and you want to do this for all the 32 examples\n",
        "  # so in the end you will have an matrix with 32 rows due to the 32 examples and each row has 100 values, each value represents the output of each of the 100 neurons\n",
        "\n",
        "  logits = h @ W2 + b2\n",
        "  # logits.shape = 32 x 27 => there are 32 examples and 27 possible characters for each example\n",
        "\n",
        "  # counts = logits.exp()\n",
        "  # prob = counts / counts.sum(1, keepdims = True)\n",
        "  # we would like to index into the rows of prob and from each row we would like to get the probability assigned to the correct character (we have the correct character in Y)\n",
        "  # loss = -prob[torch.arange(32), Y].log().mean()\n",
        "\n",
        "  # this single line of code does what the above 3 do but it does it in a more efficient way\n",
        "  loss = F.cross_entropy(logits, Ytr[ix])\n",
        "\n",
        "  # backward pass\n",
        "  for p in parameters:\n",
        "    p.grad = None\n",
        "  loss.backward()\n",
        "\n",
        "  # update\n",
        "  #lr = lrs[i]\n",
        "  lr = 0.1\n",
        "  for p in parameters:\n",
        "    p.data += -lr * p.grad\n",
        "\n",
        "  # track stats\n",
        "  #lri.append(lre[i])\n",
        "  #lossi.append(loss.item())\n",
        "\n",
        "print(loss.item())"
      ],
      "metadata": {
        "colab": {
          "base_uri": "https://localhost:8080/"
        },
        "id": "BgzzPJTJ85YQ",
        "outputId": "bf68969b-1223-44e7-bf2f-d01a4576cbda"
      },
      "execution_count": null,
      "outputs": [
        {
          "output_type": "stream",
          "name": "stdout",
          "text": [
            "2.6548030376434326\n"
          ]
        }
      ]
    },
    {
      "cell_type": "code",
      "source": [
        "#plt.plot(lri, lossi)"
      ],
      "metadata": {
        "id": "sWXOkOx0VtPx"
      },
      "execution_count": null,
      "outputs": []
    },
    {
      "cell_type": "code",
      "source": [
        "# the training loss\n",
        "emb = C[Xtr]\n",
        "h = torch.tanh(emb.view(emb.shape[0], 6) @ W1 + b1)\n",
        "logits = h @ W2 + b2\n",
        "loss = F.cross_entropy(logits, Ytr)\n",
        "loss"
      ],
      "metadata": {
        "colab": {
          "base_uri": "https://localhost:8080/"
        },
        "id": "IpPQZ_6_calp",
        "outputId": "2f3d932f-51ac-4498-fed3-57b84529546d"
      },
      "execution_count": null,
      "outputs": [
        {
          "output_type": "execute_result",
          "data": {
            "text/plain": [
              "tensor(2.6863, grad_fn=<NllLossBackward0>)"
            ]
          },
          "metadata": {},
          "execution_count": 151
        }
      ]
    },
    {
      "cell_type": "code",
      "source": [
        "# the dev loss\n",
        "emb = C[Xdev]\n",
        "h = torch.tanh(emb.view(emb.shape[0], 6) @ W1 + b1)\n",
        "logits = h @ W2 + b2\n",
        "loss = F.cross_entropy(logits, Ydev)\n",
        "loss"
      ],
      "metadata": {
        "colab": {
          "base_uri": "https://localhost:8080/"
        },
        "id": "WWcPZIelTHj9",
        "outputId": "0e9b86eb-8c21-48d3-c269-ad0837731aca"
      },
      "execution_count": null,
      "outputs": [
        {
          "output_type": "execute_result",
          "data": {
            "text/plain": [
              "tensor(2.6811, grad_fn=<NllLossBackward0>)"
            ]
          },
          "metadata": {},
          "execution_count": 152
        }
      ]
    },
    {
      "cell_type": "code",
      "source": [
        "# visualize dimensions 0 and 1 of the embedding matrix C for all characters\n",
        "plt.figure(figsize=(8,8))\n",
        "plt.scatter(C[:,0].data, C[:,1].data, s=200)\n",
        "for i in range(C.shape[0]):\n",
        "    plt.text(C[i,0].item(), C[i,1].item(), itos[i], ha=\"center\", va=\"center\", color='white')\n",
        "plt.grid('minor')"
      ],
      "metadata": {
        "colab": {
          "base_uri": "https://localhost:8080/",
          "height": 676
        },
        "id": "orw5OhoHd3Yd",
        "outputId": "e036ed21-b633-46c1-be73-ac9e011012a9"
      },
      "execution_count": null,
      "outputs": [
        {
          "output_type": "display_data",
          "data": {
            "text/plain": [
              "<Figure size 800x800 with 1 Axes>"
            ],
            "image/png": "[encoded data removed]"
          },
          "metadata": {}
        }
      ]
    },
    {
      "cell_type": "code",
      "source": [
        "# sample from the model\n",
        "g = torch.Generator().manual_seed(2147483647 + 10)\n",
        "\n",
        "for _ in range(20):\n",
        "\n",
        "    out = []\n",
        "    context = [0] * block_size # initialize with all ...\n",
        "    while True:\n",
        "      emb = C[torch.tensor([context])] # (1,block_size,d)\n",
        "      h = torch.tanh(emb.view(1, -1) @ W1 + b1)\n",
        "      logits = h @ W2 + b2\n",
        "      probs = F.softmax(logits, dim=1)\n",
        "      ix = torch.multinomial(probs, num_samples=1, generator=g).item()\n",
        "      context = context[1:] + [ix]\n",
        "      out.append(ix)\n",
        "      if ix == 0:\n",
        "        break\n",
        "\n",
        "    print(''.join(itos[i] for i in out))"
      ],
      "metadata": {
        "colab": {
          "base_uri": "https://localhost:8080/"
        },
        "id": "4uFw5k3agSX9",
        "outputId": "28c7f36b-961d-43fb-ec4c-65894a72dcec"
      },
      "execution_count": null,
      "outputs": [
        {
          "output_type": "stream",
          "name": "stdout",
          "text": [
            "nri.\n",
            "almyanleeelen.\n",
            "hry.\n",
            "lorenmrn.\n",
            "rjd.\n",
            "leo.\n",
            "lie.\n",
            "konelii.\n",
            "nli.\n",
            "relleie.\n",
            "nean.\n",
            "nar.\n",
            "kalei.\n",
            "hokalin.\n",
            "shdhnrgshi.\n",
            "jes.\n",
            "kin.\n",
            "renllionn.\n",
            "coconuen.\n",
            "ned.\n"
          ]
        }
      ]
    },
    {
      "cell_type": "code",
      "source": [
        "print(C.shape)\n",
        "C[[0, 0, 0]]"
      ],
      "metadata": {
        "colab": {
          "base_uri": "https://localhost:8080/"
        },
        "id": "JsO4jDTFoGVi",
        "outputId": "022e97f6-0409-4b31-97dc-d94c8283abfc"
      },
      "execution_count": null,
      "outputs": [
        {
          "output_type": "stream",
          "name": "stdout",
          "text": [
            "torch.Size([27, 2])\n"
          ]
        },
        {
          "output_type": "execute_result",
          "data": {
            "text/plain": [
              "tensor([[ 0.3326, -0.3022],\n",
              "        [ 0.3326, -0.3022],\n",
              "        [ 0.3326, -0.3022]], grad_fn=<IndexBackward0>)"
            ]
          },
          "metadata": {},
          "execution_count": 158
        }
      ]
    }
  ]
}